{
 "cells": [
  {
   "cell_type": "markdown",
   "metadata": {},
   "source": [
    "#  Simple Question in LeetCode"
   ]
  },
  {
   "cell_type": "markdown",
   "metadata": {},
   "source": [
    "## 14. 最长公共前缀"
   ]
  },
  {
   "cell_type": "code",
   "execution_count": 36,
   "metadata": {},
   "outputs": [],
   "source": [
    "class Solution:\n",
    "    def longestCommonPrefix(self, strs: str) -> str:\n",
    "#         minlenth = 100\n",
    "#         for i in range(len(strs)):\n",
    "#             if minlenth >= len(strs[i]):\n",
    "#                 minlenth = len(strs[i])\n",
    "        if len(strs) == 0:\n",
    "            return \"\"\n",
    "        flag = True\n",
    "        j = 0\n",
    "        result = \"\"\n",
    "        while(flag):\n",
    "            if j == len(strs[0]):\n",
    "                return result\n",
    "            temp = strs[0][j]\n",
    "            for i in range(1, len(strs)):\n",
    "                if j == len(strs[i]):\n",
    "                    flag = False\n",
    "                    break\n",
    "                if temp != strs[i][j]:\n",
    "                    flag = False\n",
    "                    break \n",
    "            if flag == True:\n",
    "                result += temp\n",
    "                j += 1\n",
    "                    \n",
    "        if len(result) == 0:\n",
    "            return \"\"\n",
    "        return result"
   ]
  },
  {
   "cell_type": "markdown",
   "metadata": {},
   "source": [
    "## 26.删除有序数组中的重复项"
   ]
  },
  {
   "cell_type": "code",
   "execution_count": 51,
   "metadata": {},
   "outputs": [],
   "source": [
    "class Solution:\n",
    "    def removeDuplicates(self, nums: list) -> int:\n",
    "        i, j = 0, 1\n",
    "        while j < len(nums):\n",
    "            if nums[i] == nums[j]:\n",
    "                j += 1\n",
    "            else:\n",
    "                nums[i+1] = nums[j]\n",
    "                j += 1\n",
    "                i += 1\n",
    "        return i+1   "
   ]
  },
  {
   "cell_type": "markdown",
   "metadata": {},
   "source": [
    "### 思路：\n",
    "- 使用两个角标i，j\n",
    "- 如果i，j上的数相等，则i不动，j+1\n",
    "- 如果i，j上的数不等，则将j上的数插入到i后面，即i+1的位置，更新i，j角标\n",
    "- 最终返回i+1，因为i是角标，实际list长度要+1.\n",
    "- i角标表示无重复的list长度，j角标用来索引。\n",
    "\n",
    "### tips：\n",
    "- python中的关于多变量的for循环，可以使用zip()函数来赋值\n",
    "- example：\n",
    "\n",
    "    nums = [1, 1, 2]\n",
    "    \n",
    "    for i, j in zip(range(0, len(nums)), range(1, len(nums))):\n",
    "        print(i, j)\n",
    "- echo:\n",
    "\n",
    "    0, 1\\1, 2\\"
   ]
  },
  {
   "cell_type": "markdown",
   "metadata": {},
   "source": [
    "## 27. 移除元素"
   ]
  },
  {
   "cell_type": "code",
   "execution_count": 60,
   "metadata": {},
   "outputs": [],
   "source": [
    "class Solution:\n",
    "    def removeElement(self, nums: list, val: int) -> int:\n",
    "        i, j = 0, 0\n",
    "        while j < len(nums):\n",
    "            if nums[j] == val:\n",
    "                j += 1\n",
    "            else:\n",
    "                nums[i] = nums[j]\n",
    "                i += 1\n",
    "                j += 1\n",
    "        return i"
   ]
  },
  {
   "cell_type": "code",
   "execution_count": 63,
   "metadata": {},
   "outputs": [
    {
     "name": "stdout",
     "output_type": "stream",
     "text": [
      "5\n"
     ]
    }
   ],
   "source": [
    "s = Solution()\n",
    "nums = [0, 1, 2, 2, 3, 0, 4, 2]\n",
    "val = 2\n",
    "print(s.removeElement(nums, val))"
   ]
  },
  {
   "cell_type": "code",
   "execution_count": null,
   "metadata": {},
   "outputs": [],
   "source": []
  }
 ],
 "metadata": {
  "kernelspec": {
   "display_name": "Python 3",
   "language": "python",
   "name": "python3"
  },
  "language_info": {
   "codemirror_mode": {
    "name": "ipython",
    "version": 3
   },
   "file_extension": ".py",
   "mimetype": "text/x-python",
   "name": "python",
   "nbconvert_exporter": "python",
   "pygments_lexer": "ipython3",
   "version": "3.7.3"
  }
 },
 "nbformat": 4,
 "nbformat_minor": 2
}
