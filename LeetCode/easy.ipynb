{
 "cells": [
  {
   "cell_type": "markdown",
   "metadata": {},
   "source": [
    "#  Simple Question in LeetCode"
   ]
  },
  {
   "cell_type": "markdown",
   "metadata": {},
   "source": [
    "## 14. 最长公共前缀"
   ]
  },
  {
   "cell_type": "code",
   "execution_count": 36,
   "metadata": {},
   "outputs": [],
   "source": [
    "class Solution:\n",
    "    def longestCommonPrefix(self, strs: str) -> str:\n",
    "#         minlenth = 100\n",
    "#         for i in range(len(strs)):\n",
    "#             if minlenth >= len(strs[i]):\n",
    "#                 minlenth = len(strs[i])\n",
    "        if len(strs) == 0:\n",
    "            return \"\"\n",
    "        flag = True\n",
    "        j = 0\n",
    "        result = \"\"\n",
    "        while(flag):\n",
    "            if j == len(strs[0]):\n",
    "                return result\n",
    "            temp = strs[0][j]\n",
    "            for i in range(1, len(strs)):\n",
    "                if j == len(strs[i]):\n",
    "                    flag = False\n",
    "                    break\n",
    "                if temp != strs[i][j]:\n",
    "                    flag = False\n",
    "                    break \n",
    "            if flag == True:\n",
    "                result += temp\n",
    "                j += 1\n",
    "                    \n",
    "        if len(result) == 0:\n",
    "            return \"\"\n",
    "        return result"
   ]
  }
 ],
 "metadata": {
  "kernelspec": {
   "display_name": "Python 3",
   "language": "python",
   "name": "python3"
  },
  "language_info": {
   "codemirror_mode": {
    "name": "ipython",
    "version": 3
   },
   "file_extension": ".py",
   "mimetype": "text/x-python",
   "name": "python",
   "nbconvert_exporter": "python",
   "pygments_lexer": "ipython3",
   "version": "3.7.3"
  }
 },
 "nbformat": 4,
 "nbformat_minor": 2
}
