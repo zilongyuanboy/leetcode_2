{
 "cells": [
  {
   "cell_type": "markdown",
   "metadata": {},
   "source": [
    "#  Simple Question in LeetCode"
   ]
  },
  {
   "cell_type": "markdown",
   "metadata": {},
   "source": [
    "## 1.两数之和 test"
   ]
  },
  {
   "cell_type": "code",
   "execution_count": 1,
   "metadata": {},
   "outputs": [
    {
     "name": "stdout",
     "output_type": "stream",
     "text": [
      "输入: nums = 23\n",
      "target = 2\n",
      "输出： []\n"
     ]
    }
   ],
   "source": [
    "# 尝试代码\n",
    "class Solution:\n",
    "    def twoSum(self, nums, target):\n",
    "        flag = [0 for i in range(len(nums))]\n",
    "        result = []\n",
    "        for i in range(len(nums)):\n",
    "            if flag[i] == 1:\n",
    "                continue\n",
    "            for j in range(i + 1, len(nums)):\n",
    "                if flag[j] == 1:\n",
    "                    continue\n",
    "                if nums[i] + nums[j] == target:\n",
    "                    flag[i] = 1\n",
    "                    flag[j] = 1\n",
    "                    result.append([i, j])\n",
    "        return result\n",
    "\n",
    "\n",
    "\n",
    "two = Solution()\n",
    "nums_str = input(\"输入: nums = \").split(\",\")\n",
    "nums = [int(nums_str[i]) for i in range(len(nums_str))]\n",
    "target = int(input(\"target = \"))\n",
    "print(\"输出：\", two.twoSum(nums, target))\n"
   ]
  },
  {
   "cell_type": "markdown",
   "metadata": {},
   "source": [
    "## Pass"
   ]
  },
  {
   "cell_type": "code",
   "execution_count": 3,
   "metadata": {},
   "outputs": [
    {
     "name": "stdout",
     "output_type": "stream",
     "text": [
      "[0, 1]\n"
     ]
    }
   ],
   "source": [
    "class Solution:\n",
    "    def twoSum(self, nums, target):\n",
    "        flag = [0 for i in range(len(nums))]\n",
    "        result = []\n",
    "        for i in range(len(nums)):\n",
    "            if flag[i] == 1:\n",
    "                continue\n",
    "            for j in range(i + 1, len(nums)):\n",
    "                if flag[j] == 1:\n",
    "                    continue\n",
    "                if nums[i] + nums[j] == target:\n",
    "                    flag[i] = 1\n",
    "                    flag[j] = 1\n",
    "                    result.append(i)\n",
    "                    result.append(j)\n",
    "        return result\n",
    "\n",
    "\n",
    "two = Solution()\n",
    "nums = [2, 7, 11, 15]\n",
    "target = 9\n",
    "result = two.twoSum(nums, target)\n",
    "print(result)"
   ]
  },
  {
   "cell_type": "markdown",
   "metadata": {},
   "source": [
    "## 7. 整数反转 test"
   ]
  },
  {
   "cell_type": "code",
   "execution_count": 4,
   "metadata": {},
   "outputs": [],
   "source": [
    "class Solution:\n",
    "    def is32(self, x: int):\n",
    "        if x < pow(-2, 31) or x > (pow(2, 31) - 1):\n",
    "            raise ValueError('输入的x超出32位有符号范围')\n",
    "            \n",
    "    def reverse(self, x: int) -> int:\n",
    "        self.is32(x)\n",
    "        flag = 0\n",
    "        if x < 0:\n",
    "            flag = 1\n",
    "            x = -x\n",
    "        result = 0\n",
    "        while(x > 0):\n",
    "            a = x % 10\n",
    "            x = x // 10\n",
    "            result = result * 10 + a\n",
    "        if flag == 1:\n",
    "            result = -result\n",
    "        self.is32(result)\n",
    "        return result\n",
    "        "
   ]
  },
  {
   "cell_type": "code",
   "execution_count": 5,
   "metadata": {},
   "outputs": [
    {
     "name": "stdout",
     "output_type": "stream",
     "text": [
      "0\n"
     ]
    }
   ],
   "source": [
    "s = Solution()\n",
    "# x = 123\n",
    "# x = -123\n",
    "# x = 120\n",
    "x = 0\n",
    "print(s.reverse(x))"
   ]
  },
  {
   "cell_type": "markdown",
   "metadata": {},
   "source": [
    "## Pass "
   ]
  },
  {
   "cell_type": "code",
   "execution_count": 6,
   "metadata": {},
   "outputs": [],
   "source": [
    "# 可以改进，在while中提前进行判断，提前终止，while判断条件可以换成x!=0 \n",
    "# 这样就可以不用判断正负数\n",
    "class Solution:\n",
    "    '''\n",
    "    def is32(self, x: int):\n",
    "        if x < pow(-2, 31) or x > (pow(2, 31) - 1):\n",
    "            # raise ValueError('输入的x超出32位有符号范围')\n",
    "            return 0\n",
    "        else: \n",
    "            return x\n",
    "    '''\n",
    "    def reverse(self, x: int) -> int:\n",
    "        # x = self.is32(x)\n",
    "        if x < pow(-2, 31) or x > (pow(2, 31) - 1):\n",
    "            print(\"1\")\n",
    "            return 0\n",
    "        flag = 0\n",
    "        if x < 0:\n",
    "            flag = 1\n",
    "            x = -x\n",
    "        result = 0\n",
    "        while(x > 0):\n",
    "            a = x % 10\n",
    "            x = x // 10\n",
    "            result = result * 10 + a\n",
    "        if flag == 1:\n",
    "            result = -result\n",
    "        if result < pow(-2, 31) or result > (pow(2, 31) - 1):\n",
    "            print(\"2\")\n",
    "            return 0\n",
    "        return result\n"
   ]
  },
  {
   "cell_type": "code",
   "execution_count": 7,
   "metadata": {},
   "outputs": [
    {
     "name": "stdout",
     "output_type": "stream",
     "text": [
      "321\n"
     ]
    }
   ],
   "source": [
    "s = Solution()\n",
    "x = 123\n",
    "# x = -123\n",
    "# x = 120\n",
    "# x = 0\n",
    "print(s.reverse(x))"
   ]
  },
  {
   "cell_type": "markdown",
   "metadata": {},
   "source": [
    "## 9. 会文数 test\n",
    "### tips 求int a 的位数的三个基本办法\n",
    "- while循环，a//10， count += 1\n",
    "- 取对数加一，math.log10(abs(a)) + 1， 需要导入math或者numpy（numpy中的函数可以处理list，math不能）\n",
    "- 转换为s = str(abs(a))，求len(s), 不用导入包"
   ]
  },
  {
   "cell_type": "code",
   "execution_count": 8,
   "metadata": {},
   "outputs": [],
   "source": [
    "class Solution:\n",
    "    def isPalindrome(self, x: int) -> bool:\n",
    "        if x < 0:\n",
    "            return False\n",
    "        x = abs(x)\n",
    "        s = str(x)\n",
    "        a = x \n",
    "        lenth = len(s)\n",
    "        for i in range(1, int(lenth/2) + 1):\n",
    "            print(i)\n",
    "            x_r = x // pow(10, lenth - i)\n",
    "            x %= pow(10, lenth - i)\n",
    "            a_r = a % 10\n",
    "            a = a // 10\n",
    "            if x_r != a_r:\n",
    "                return False\n",
    "        return True\n",
    "    "
   ]
  },
  {
   "cell_type": "markdown",
   "metadata": {},
   "source": [
    "## Pass"
   ]
  },
  {
   "cell_type": "code",
   "execution_count": 9,
   "metadata": {},
   "outputs": [],
   "source": [
    "class Solution:\n",
    "    def isPalindrome(self, x: int) -> bool:\n",
    "        if x < 0:\n",
    "            return False\n",
    "        x = abs(x)\n",
    "        s = str(x)\n",
    "        a = x \n",
    "        lenth = len(s)\n",
    "        for i in range(1, int(lenth/2) + 1):\n",
    "            print(i)\n",
    "            x_r = x // pow(10, lenth - i)\n",
    "            x %= pow(10, lenth - i)\n",
    "            a_r = a % 10\n",
    "            a = a // 10\n",
    "            if x_r != a_r:\n",
    "                return False\n",
    "        return True\n",
    "    "
   ]
  },
  {
   "cell_type": "markdown",
   "metadata": {},
   "source": [
    "## improvement"
   ]
  },
  {
   "cell_type": "code",
   "execution_count": 10,
   "metadata": {},
   "outputs": [],
   "source": [
    "class Solution:\n",
    "    def isPalindrome(self, x: int) -> bool:\n",
    "#         if x == 0:\n",
    "#             return True\n",
    "        # 最好加上括号，有可能会出错 如下如果x是10，则(x % 10 == 0 & x != 0) 是False \n",
    "        # 为什么（True & True）会是False, x < 0 也要加上括号，否则也会出错\n",
    "        if (x < 0) | ((x % 10 == 0) & (x != 0)):\n",
    "            print(1)\n",
    "            return False\n",
    "        reverse = 0\n",
    "        while(x > reverse):\n",
    "            print(2)\n",
    "            reverse = reverse * 10 + x % 10\n",
    "            x = x // 10\n",
    "        # 算术运算符号最高，再计算关系运算符，最后计算逻辑运算符,要加括号，不然会出错\n",
    "        # 为什么 x = 1, reverse = 12,print(reverse|x == revers // 10）-> 13\n",
    "        print(x, reverse)\n",
    "        return (x == reverse)|(x == reverse // 10)\n",
    "            \n",
    "    "
   ]
  },
  {
   "cell_type": "code",
   "execution_count": 11,
   "metadata": {},
   "outputs": [
    {
     "name": "stdout",
     "output_type": "stream",
     "text": [
      "0 0\n",
      "True\n"
     ]
    }
   ],
   "source": [
    "s = Solution()\n",
    "x = 0\n",
    "print(s.isPalindrome(x))"
   ]
  },
  {
   "cell_type": "markdown",
   "metadata": {},
   "source": [
    "## 13.罗马数字转整型 Test"
   ]
  },
  {
   "cell_type": "code",
   "execution_count": 12,
   "metadata": {},
   "outputs": [],
   "source": [
    "class Solution:\n",
    "    def romanToInt(self, s: str) -> int:\n",
    "        result = 0\n",
    "        i = 0\n",
    "        while(i < len(s)):\n",
    "            if i != len(s) - 1:\n",
    "                if s[i] == 'I':\n",
    "                    if s[i + 1] == 'V':\n",
    "                        result += 4\n",
    "                        i += 2\n",
    "                        continue\n",
    "                    elif s[i + 1] == 'X':\n",
    "                        result += 9\n",
    "                        i += 2\n",
    "                        continue\n",
    "                    else:\n",
    "                        result += 1\n",
    "                        i += 1\n",
    "                        continue\n",
    "                if s[i] == 'X':\n",
    "                    if s[i + 1] == 'L':\n",
    "                        result += 40\n",
    "                        i += 2\n",
    "                        continue\n",
    "                    elif s[i + 1] == 'C':\n",
    "                        result += 90\n",
    "                        i += 2\n",
    "                        continue\n",
    "                    else:\n",
    "                        result += 10\n",
    "                        i += 1\n",
    "                        continue\n",
    "                if s[i] == 'C':\n",
    "                    if s[i + 1] == 'D':\n",
    "                        result += 400\n",
    "                        i += 2\n",
    "                        continue\n",
    "                    elif s[i + 1] == 'M':\n",
    "                        result += 900\n",
    "                        i += 2\n",
    "                        continue\n",
    "                    else:\n",
    "                        result += 100\n",
    "                        i += 1\n",
    "                        continue\n",
    "            if s[i] == 'V':\n",
    "                result += 5\n",
    "                i += 1\n",
    "                continue\n",
    "            if s[i] == 'L':\n",
    "                result += 50\n",
    "                i += 1\n",
    "                continue\n",
    "            if s[i] == 'D':\n",
    "                result += 500\n",
    "                i += 1\n",
    "                continue\n",
    "            if s[i] == 'M':\n",
    "                result += 1000\n",
    "                i += 1\n",
    "                continue\n",
    "            if s[i] == 'I':\n",
    "                result += 1\n",
    "                i += 1\n",
    "                continue\n",
    "            if s[i] == 'X':\n",
    "                result += 10\n",
    "                i += 1\n",
    "                continue\n",
    "            if s[i] == 'C':\n",
    "                result += 100\n",
    "                i += 1\n",
    "                continue\n",
    "        return result\n"
   ]
  },
  {
   "cell_type": "code",
   "execution_count": 13,
   "metadata": {},
   "outputs": [
    {
     "name": "stdout",
     "output_type": "stream",
     "text": [
      "1994\n"
     ]
    }
   ],
   "source": [
    "s_1 = Solution()\n",
    "s = 'MCMXCIV'\n",
    "print(s_1.romanToInt(s))"
   ]
  },
  {
   "cell_type": "markdown",
   "metadata": {},
   "source": [
    "## Pass"
   ]
  },
  {
   "cell_type": "code",
   "execution_count": 14,
   "metadata": {},
   "outputs": [
    {
     "name": "stdout",
     "output_type": "stream",
     "text": [
      "4\n"
     ]
    }
   ],
   "source": [
    "class Solution:\n",
    "    def romanToInt(self, s: str) -> int:\n",
    "        result = 0\n",
    "        i = 0\n",
    "        while(i < len(s)):\n",
    "            if i != len(s) - 1:\n",
    "                if s[i] == 'I':\n",
    "                    if s[i + 1] == 'V':\n",
    "                        result += 4\n",
    "                        i += 2\n",
    "                        continue\n",
    "                    elif s[i + 1] == 'X':\n",
    "                        result += 9\n",
    "                        i += 2\n",
    "                        continue\n",
    "                    else:\n",
    "                        result += 1\n",
    "                        i += 1\n",
    "                        continue\n",
    "                if s[i] == 'X':\n",
    "                    if s[i + 1] == 'L':\n",
    "                        result += 40\n",
    "                        i += 2\n",
    "                        continue\n",
    "                    elif s[i + 1] == 'C':\n",
    "                        result += 90\n",
    "                        i += 2\n",
    "                        continue\n",
    "                    else:\n",
    "                        result += 10\n",
    "                        i += 1\n",
    "                        continue\n",
    "                if s[i] == 'C':\n",
    "                    if s[i + 1] == 'D':\n",
    "                        result += 400\n",
    "                        i += 2\n",
    "                        continue\n",
    "                    elif s[i + 1] == 'M':\n",
    "                        result += 900\n",
    "                        i += 2\n",
    "                        continue\n",
    "                    else:\n",
    "                        result += 100\n",
    "                        i += 1\n",
    "                        continue\n",
    "            if s[i] == 'V':\n",
    "                result += 5\n",
    "                i += 1\n",
    "                continue\n",
    "            if s[i] == 'L':\n",
    "                result += 50\n",
    "                i += 1\n",
    "                continue\n",
    "            if s[i] == 'D':\n",
    "                result += 500\n",
    "                i += 1\n",
    "                continue\n",
    "            if s[i] == 'M':\n",
    "                result += 1000\n",
    "                i += 1\n",
    "                continue\n",
    "            if s[i] == 'I':\n",
    "                result += 1\n",
    "                i += 1\n",
    "                continue\n",
    "            if s[i] == 'X':\n",
    "                result += 10\n",
    "                i += 1\n",
    "                continue\n",
    "            if s[i] == 'C':\n",
    "                result += 100\n",
    "                i += 1\n",
    "                continue\n",
    "        return result\n",
    "\n",
    "\n",
    "s_1 = Solution()\n",
    "s = 'IV'\n",
    "print(s_1.romanToInt(s))"
   ]
  },
  {
   "cell_type": "markdown",
   "metadata": {},
   "source": [
    "### tips\n",
    "- 输出jupyter-notebook中的python版本号\n",
    "\n",
    "import sys\n",
    "\n",
    "print(sys.version)\n",
    "\n",
    "print(sys.executable)"
   ]
  },
  {
   "cell_type": "code",
   "execution_count": 16,
   "metadata": {},
   "outputs": [
    {
     "name": "stdout",
     "output_type": "stream",
     "text": [
      "3.7.3 (default, Mar 27 2019, 16:54:48) \n",
      "[Clang 4.0.1 (tags/RELEASE_401/final)]\n",
      "/Users/zilong/anaconda3/bin/python\n"
     ]
    }
   ],
   "source": [
    "# 输出jupyter-notebook中python的版本号\n",
    "import sys\n",
    "print(sys.version)\n",
    "print(sys.executable)"
   ]
  },
  {
   "cell_type": "markdown",
   "metadata": {},
   "source": [
    "## 14. 最长公共前缀"
   ]
  },
  {
   "cell_type": "code",
   "execution_count": 36,
   "metadata": {},
   "outputs": [],
   "source": [
    "class Solution:\n",
    "    def longestCommonPrefix(self, strs: str) -> str:\n",
    "#         minlenth = 100\n",
    "#         for i in range(len(strs)):\n",
    "#             if minlenth >= len(strs[i]):\n",
    "#                 minlenth = len(strs[i])\n",
    "        if len(strs) == 0:\n",
    "            return \"\"\n",
    "        flag = True\n",
    "        j = 0\n",
    "        result = \"\"\n",
    "        while(flag):\n",
    "            if j == len(strs[0]):\n",
    "                return result\n",
    "            temp = strs[0][j]\n",
    "            for i in range(1, len(strs)):\n",
    "                if j == len(strs[i]):\n",
    "                    flag = False\n",
    "                    break\n",
    "                if temp != strs[i][j]:\n",
    "                    flag = False\n",
    "                    break \n",
    "            if flag == True:\n",
    "                result += temp\n",
    "                j += 1\n",
    "                    \n",
    "        if len(result) == 0:\n",
    "            return \"\"\n",
    "        return result"
   ]
  },
  {
   "cell_type": "markdown",
   "metadata": {},
   "source": [
    "## 26.删除有序数组中的重复项"
   ]
  },
  {
   "cell_type": "code",
   "execution_count": 51,
   "metadata": {},
   "outputs": [],
   "source": [
    "class Solution:\n",
    "    def removeDuplicates(self, nums: list) -> int:\n",
    "        i, j = 0, 1\n",
    "        while j < len(nums):\n",
    "            if nums[i] == nums[j]:\n",
    "                j += 1\n",
    "            else:\n",
    "                nums[i+1] = nums[j]\n",
    "                j += 1\n",
    "                i += 1\n",
    "        return i+1   "
   ]
  },
  {
   "cell_type": "markdown",
   "metadata": {},
   "source": [
    "### 思路：\n",
    "- 使用两个角标i，j\n",
    "- 如果i，j上的数相等，则i不动，j+1\n",
    "- 如果i，j上的数不等，则将j上的数插入到i后面，即i+1的位置，更新i，j角标\n",
    "- 最终返回i+1，因为i是角标，实际list长度要+1.\n",
    "- i角标表示无重复的list长度，j角标用来索引。\n",
    "\n",
    "### tips：\n",
    "- python中的关于多变量的for循环，可以使用zip()函数来赋值\n",
    "- example：\n",
    "\n",
    "    nums = [1, 1, 2]\n",
    "    \n",
    "    for i, j in zip(range(0, len(nums)), range(1, len(nums))):\n",
    "        print(i, j)\n",
    "- echo:\n",
    "\n",
    "    0, 1\\1, 2\\"
   ]
  },
  {
   "cell_type": "markdown",
   "metadata": {},
   "source": [
    "## 27. 移除元素"
   ]
  },
  {
   "cell_type": "code",
   "execution_count": 60,
   "metadata": {},
   "outputs": [],
   "source": [
    "class Solution:\n",
    "    def removeElement(self, nums: list, val: int) -> int:\n",
    "        i, j = 0, 0\n",
    "        while j < len(nums):\n",
    "            if nums[j] == val:\n",
    "                j += 1\n",
    "            else:\n",
    "                nums[i] = nums[j]\n",
    "                i += 1\n",
    "                j += 1\n",
    "        return i"
   ]
  },
  {
   "cell_type": "code",
   "execution_count": 63,
   "metadata": {},
   "outputs": [
    {
     "name": "stdout",
     "output_type": "stream",
     "text": [
      "5\n"
     ]
    }
   ],
   "source": [
    "s = Solution()\n",
    "nums = [0, 1, 2, 2, 3, 0, 4, 2]\n",
    "val = 2\n",
    "print(s.removeElement(nums, val))"
   ]
  },
  {
   "cell_type": "markdown",
   "metadata": {},
   "source": [
    "## 35.搜索插入位置\n",
    "- 给定一个排序数组和一个目标值，在数组中找到目标值，并返回其索引。如果目标值不存在于数组中返回它将会被按顺序插入的位置。\n",
    "\n",
    "- &oplus;假设数组中无重复元素"
   ]
  },
  {
   "cell_type": "code",
   "execution_count": 16,
   "metadata": {},
   "outputs": [],
   "source": [
    "class Solution:\n",
    "    def searchInsert(self, nums: list, target: int) -> int:\n",
    "        if len(nums) == 0 or target < nums[0]:\n",
    "            return 0\n",
    "        for index, i in enumerate(nums):\n",
    "            if target == i:\n",
    "                return index\n",
    "            if target < i and target > nums[index-1]:\n",
    "                return index\n",
    "        return len(nums)"
   ]
  },
  {
   "cell_type": "code",
   "execution_count": 18,
   "metadata": {},
   "outputs": [
    {
     "name": "stdout",
     "output_type": "stream",
     "text": [
      "4\n"
     ]
    }
   ],
   "source": [
    "nums = [1, 3, 5, 6]\n",
    "target = 7\n",
    "s = Solution()\n",
    "print(s.searchInsert(nums, target))"
   ]
  },
  {
   "cell_type": "code",
   "execution_count": 13,
   "metadata": {},
   "outputs": [
    {
     "name": "stdout",
     "output_type": "stream",
     "text": [
      "0 1\n",
      "1 3\n",
      "2 5\n",
      "3 6\n"
     ]
    }
   ],
   "source": [
    "for index, i in enumerate(nums):\n",
    "    print(index, i)"
   ]
  },
  {
   "cell_type": "code",
   "execution_count": null,
   "metadata": {},
   "outputs": [],
   "source": []
  }
 ],
 "metadata": {
  "kernelspec": {
   "display_name": "Python 3",
   "language": "python",
   "name": "python3"
  },
  "language_info": {
   "codemirror_mode": {
    "name": "ipython",
    "version": 3
   },
   "file_extension": ".py",
   "mimetype": "text/x-python",
   "name": "python",
   "nbconvert_exporter": "python",
   "pygments_lexer": "ipython3",
   "version": "3.7.3"
  }
 },
 "nbformat": 4,
 "nbformat_minor": 2
}
