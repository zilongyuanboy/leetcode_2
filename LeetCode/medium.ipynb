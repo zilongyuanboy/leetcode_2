{
 "cells": [
  {
   "cell_type": "markdown",
   "metadata": {},
   "source": [
    "## 213. 打家劫舍 test"
   ]
  },
  {
   "cell_type": "code",
   "execution_count": 1,
   "metadata": {},
   "outputs": [],
   "source": [
    "class Solution:\n",
    "    def robrange(self, nums: list, start: int, end: int) -> int:\n",
    "        dp_2 = 0\n",
    "        dp_1 = 0\n",
    "        dp = 0\n",
    "        for i in range(start, end + 1):\n",
    "            dp = max(dp_2 + nums[i], dp_1)\n",
    "            dp_2 = dp_1\n",
    "            dp_1 = dp\n",
    "        return dp\n",
    "        \n",
    "    def rob(self, nums: list) -> int:\n",
    "        if len(nums) == 1:\n",
    "            return nums[0]\n",
    "        if len(nums) == 2:\n",
    "            return max(nums)\n",
    "#         if len(nums) == 3:\n",
    "#             return max(nums)\n",
    "        return max(self.robrange(nums, 0, len(nums) - 2), \n",
    "                            self.robrange(nums, 1, len(nums) - 1))"
   ]
  },
  {
   "cell_type": "code",
   "execution_count": null,
   "metadata": {},
   "outputs": [],
   "source": []
  }
 ],
 "metadata": {
  "kernelspec": {
   "display_name": "Python 3",
   "language": "python",
   "name": "python3"
  },
  "language_info": {
   "codemirror_mode": {
    "name": "ipython",
    "version": 3
   },
   "file_extension": ".py",
   "mimetype": "text/x-python",
   "name": "python",
   "nbconvert_exporter": "python",
   "pygments_lexer": "ipython3",
   "version": "3.7.3"
  }
 },
 "nbformat": 4,
 "nbformat_minor": 2
}
