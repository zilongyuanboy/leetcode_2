{
 "cells": [
  {
   "cell_type": "markdown",
   "metadata": {},
   "source": [
    "## 213. 打家劫舍 test"
   ]
  },
  {
   "cell_type": "code",
   "execution_count": 1,
   "metadata": {},
   "outputs": [],
   "source": [
    "class Solution:\n",
    "    def robrange(self, nums: list, start: int, end: int) -> int:\n",
    "        dp_2 = 0\n",
    "        dp_1 = 0\n",
    "        dp = 0\n",
    "        for i in range(start, end + 1):\n",
    "            dp = max(dp_2 + nums[i], dp_1)\n",
    "            dp_2 = dp_1\n",
    "            dp_1 = dp\n",
    "        return dp\n",
    "        \n",
    "    def rob(self, nums: list) -> int:\n",
    "        if len(nums) == 1:\n",
    "            return nums[0]\n",
    "        if len(nums) == 2:\n",
    "            return max(nums)\n",
    "#         if len(nums) == 3:\n",
    "#             return max(nums)\n",
    "        return max(self.robrange(nums, 0, len(nums) - 2), \n",
    "                            self.robrange(nums, 1, len(nums) - 1))"
   ]
  },
  {
   "cell_type": "markdown",
   "metadata": {},
   "source": [
    "## 2. 两数相加\n",
    "- 给你两个非空的链表，表示两个非负的整数，它们每位数字都是按照逆序的方式存储的，并且每个节点只能存储一位数字。\n",
    "- 请将两个数相加，并以相同形式返回一个表示和的链表。\n",
    "- 你可以假设除了数字0之外，这两个数都不会以0开头"
   ]
  },
  {
   "cell_type": "code",
   "execution_count": 99,
   "metadata": {},
   "outputs": [],
   "source": [
    "# Definition for singly-linked list.\n",
    "class ListNode:\n",
    "    def __init__(self, val=0, next=None):\n",
    "        self.val = val\n",
    "        self.next = next\n",
    "\n",
    "\n",
    "class Solution:\n",
    "    def createListNode(self, nums):\n",
    "        l1 = ListNode()\n",
    "        head = l1\n",
    "        for i in nums:\n",
    "            l1.next = ListNode(i, None)\n",
    "            l1 = l1.next\n",
    "        return head.next\n",
    "\n",
    "    def printListNode(shle, head):\n",
    "        temp = head\n",
    "        while temp:\n",
    "            print(temp.val)\n",
    "            temp = temp.next\n",
    "\n",
    "    def addTwoNumbers(self, l1, l2):\n",
    "        nums = []\n",
    "        flag = 0\n",
    "        l1_index = l1\n",
    "        l2_index = l2\n",
    "        while l1_index or l2_index:\n",
    "            if flag == 1:\n",
    "                if l1_index == None:\n",
    "                    sums = l2_index.val + 1\n",
    "                elif l2_index == None:\n",
    "                    sums = l1_index.val + 1\n",
    "                else:\n",
    "                    sums = l1_index.val + l2_index.val + 1\n",
    "            else:\n",
    "                if l1_index == None:\n",
    "                    sums = l2_index.val\n",
    "                elif l2_index == None:\n",
    "                    sums = l1_index.val\n",
    "                else:\n",
    "                    sums = l1_index.val + l2_index.val\n",
    "            if sums >= 10:\n",
    "                flag = 1\n",
    "                nums.append(sums - 10)\n",
    "            else:\n",
    "                flag = 0\n",
    "                nums.append(sums)\n",
    "            if l1_index:\n",
    "                l1_index = l1_index.next\n",
    "            if l2_index:\n",
    "                l2_index = l2_index.next\n",
    "        if flag == 1:\n",
    "            nums.append(1)\n",
    "        return self.createListNode(nums)\n"
   ]
  },
  {
   "cell_type": "code",
   "execution_count": 100,
   "metadata": {},
   "outputs": [
    {
     "name": "stdout",
     "output_type": "stream",
     "text": [
      "8\n",
      "9\n",
      "9\n",
      "9\n",
      "0\n",
      "0\n",
      "0\n",
      "1\n"
     ]
    }
   ],
   "source": [
    "s = Solution()\n",
    "nums_l1 = [9, 9, 9, 9, 9, 9, 9]\n",
    "nums_l2 = [9, 9, 9, 9]\n",
    "l1 = s.createListNode(nums_l1)\n",
    "l2 = s.createListNode(nums_l2)\n",
    "result = s.addTwoNumbers(l1,l2)\n",
    "s.printListNode(result)\n"
   ]
  },
  {
   "cell_type": "markdown",
   "metadata": {},
   "source": [
    "# <center>题解<center/>\n",
    "## 引用Leetcode“大神学费了的Kai”的代码\n",
    "- 连等赋值的大概规则就是先从左到右解析各个引用，然后再计算最右侧的表达式子的值，最后把值从右到左赋给各个引用\n",
    "- 关于连等赋值的详细规则请参考CSDN\n",
    "https://blog.csdn.net/bjiang927/article/details/79258036\n",
    "- ?divmod(x, y, /) 该函数会返回一个元组，两个值，前一个是x//y（整除操作），后一个是x%y（取余操作）"
   ]
  },
  {
   "cell_type": "code",
   "execution_count": 135,
   "metadata": {},
   "outputs": [],
   "source": [
    "class Solution:\n",
    "    def addTwoNumbers(self, l1, l2):\n",
    "        head = curr = ListNode()  \n",
    "        carry = val = 0\n",
    "        while carry or l1 or l2:\n",
    "            val = carry\n",
    "            if l1: l1, val = l1.next, l1.val + val\n",
    "            if l2: l2, val = l2.next, l2.val + val\n",
    "            carry, val = divmod(val, 10)\n",
    "            curr.next = curr = ListNode(val)\n",
    "        return head.next"
   ]
  },
  {
   "cell_type": "markdown",
   "metadata": {},
   "source": [
    "##  28. 实现strStr()\n",
    "- 给你两个字符串haystack和needle，请在haystack字符串找出needle字符串出现的第一个位置（下标从0开始）。如果不存在，则返回-1\n",
    "- 当needle是空字符串时，应当返回0，这是一个很好的面试题，对于本题而言，也很符合C中的strstr()以及Java的indexOf()"
   ]
  },
  {
   "cell_type": "code",
   "execution_count": 152,
   "metadata": {},
   "outputs": [],
   "source": [
    "class Solution:\n",
    "    def strStr(self, haystack: str, needle: str) -> int:\n",
    "        n = len(needle)\n",
    "        if needle == \"\":\n",
    "            return 0\n",
    "        falg = False\n",
    "        for j in range(len(haystack)-n+1):\n",
    "            for i in range(n):\n",
    "                if needle[i] == haystack[j+i]:\n",
    "                    falg = True\n",
    "                else:\n",
    "                    falg = False\n",
    "                    break\n",
    "            if falg:\n",
    "                return j\n",
    "        return -1"
   ]
  },
  {
   "cell_type": "code",
   "execution_count": 155,
   "metadata": {},
   "outputs": [
    {
     "name": "stdout",
     "output_type": "stream",
     "text": [
      "0\n"
     ]
    }
   ],
   "source": [
    "# haystack, needle = \"hello\", \"ll\"\n",
    "haystack, needle = \"\", \"\"\n",
    "s = Solution()\n",
    "print(s.strStr(haystack, needle))"
   ]
  },
  {
   "cell_type": "markdown",
   "metadata": {},
   "source": [
    "## 题解\n",
    "- 暴力法\n",
    "- KMP"
   ]
  },
  {
   "cell_type": "code",
   "execution_count": 158,
   "metadata": {},
   "outputs": [],
   "source": [
    "# 改进版暴力法\n",
    "class Solution:\n",
    "    def strStr(self, haystack, needle):\n",
    "        for i in range(len(haystack)-len(needle)+1):\n",
    "            if haystack[i:i+len(needle)] == needle:\n",
    "                return i\n",
    "        return -1"
   ]
  },
  {
   "cell_type": "markdown",
   "metadata": {},
   "source": [
    "## 关于前缀函数的性质几点说明：\n",
    "- 1.&pi;(i)&le;&pi;(i-1)+1。\n",
    "    \n",
    "    &rArr;依据&pi;(i)定义得：s[0:&pi;(i)-1] = s[i-&pi;(i)+1:i]\n",
    "    \n",
    "    &rArr;将两区间的右端点同时左移，可得：s[0:&pi;(i)-2] = s[i-&pi;(i)+1:i-1]\n",
    "    \n",
    "    &rArr;依据&pi;(i-1)定义得：&pi;(i-1)&ge;&pi;(i)-1,即&pi;(i)&le;&pi;(i-1)+1\n",
    "\n",
    "    关于第三点的解释，第i个子串不可能比i-1个子串前缀长两个单位，因为第i个子串在增加前缀长度的时候务必会经过第i-1个子串，只有第i-1个子串达到最大长度时，第i个子串才能在它的基础上加1.实际上在增加前缀长度的时候，只需要看那增加的一个字符和第i个字符是否相等即可，若相等，则可以在i-1的最大前缀长度上加1，否则就只能减少，即i子串的最大前缀长度小于等于&pi:(i-1)+1的最大前缀长度\n",
    "\n",
    "\n",
    "- 2.如果s[i]=s[&pi;(i-1)],那么&pi;(i)=&pi;(i-1)+1.\n",
    "\n",
    "    &rArr;依据&pi;(i-1)定义得：s[0:&pi;(i-1)-1]=s[i-&pi;(i-1):i-1]\n",
    "\n",
    "    &rArr;因为s[&pi;(i-1)]=s[i],可得s[0:&pi;(i-1)]=s[i-&pi;(i-1):i]\n",
    "    \n",
    "    &rArr;依据&pi;(i)定义得：&pi;(i)&ge;&pi;(i-1)+1,结合第一个性质可得&pi;(i)=&pi;(i-1)+1"
   ]
  },
  {
   "cell_type": "markdown",
   "metadata": {},
   "source": [
    "&pi;   &iquest;   &raquo;  &laquo;  &rArr;   \" “  &infin;  &fnof;(x)   &times;   &divide;  &radic;4   &ang;45&deg;  &int;&int;x&sup3;   &there4;   &ne;   &plusmn;"
   ]
  },
  {
   "cell_type": "markdown",
   "metadata": {},
   "source": [
    "2&sup1;time&sup2;&rarr;&rArr;&sect;&frac12;&frac34;&para;&tau;"
   ]
  },
  {
   "cell_type": "code",
   "execution_count": 216,
   "metadata": {},
   "outputs": [],
   "source": [
    "# KMP\n",
    "class Solution:\n",
    "    def strStr(self, haystack, needle):\n",
    "        m, n = len(needle), len(haystack)\n",
    "        if m == 0:\n",
    "            return 0\n",
    "        j = 0\n",
    "        pi = [0 for i in range(m)]\n",
    "        for i in range(1, len(needle)):\n",
    "            while(j > 0 and needle[i] != needle[j]):\n",
    "                j = pi[j-1]\n",
    "            if needle[i] == needle[j]:\n",
    "                j += 1\n",
    "            pi[i] = j\n",
    "        \n",
    "        j = 0\n",
    "        for i in range(n):\n",
    "            while(j > 0 and needle[j] != haystack[i]):\n",
    "                j = pi[j-1]\n",
    "            if needle[j] == haystack[i]:\n",
    "                j += 1\n",
    "            if j == m:\n",
    "                return i - m + 1\n",
    "        return -1"
   ]
  },
  {
   "cell_type": "code",
   "execution_count": 217,
   "metadata": {},
   "outputs": [
    {
     "name": "stdout",
     "output_type": "stream",
     "text": [
      "0\n"
     ]
    }
   ],
   "source": [
    "# s = Solution()\n",
    "# haystack, needle = \"hello\", \"ll\"\n",
    "# haystack, needle = \"aaaaa\", \"bba\"\n",
    "# haystack, needle = \"\", \"\"\n",
    "# print(s.strStr(haystack, needle))"
   ]
  },
  {
   "cell_type": "markdown",
   "metadata": {},
   "source": [
    "## 求解前缀函数F的思路\n",
    "https://www.cnblogs.com/SYCstudio/p/7194315.html#:~:text=KMP%E7%AE%97%E6%B3%95%E5%B0%B1%E6%98%AF%E8%A7%A3%E5%86%B3%E4%B8%8A%E9%9D%A2%E7%9A%84%E9%97%AE%E9%A2%98%E7%9A%84%EF%BC%8C%E5%9C%A8%E8%AE%B2%E8%BF%B0%E4%B9%8B%E5%89%8D%EF%BC%8C%E6%88%91%E4%BB%AC%E5%85%88%E6%91%86%E5%87%BA%E4%B8%A4%E4%B8%AA%E6%A6%82%E5%BF%B5%EF%BC%9A.%20%E5%89%8D%E7%BC%80%EF%BC%9A%E6%8C%87%E7%9A%84%E6%98%AF%E5%AD%97%E7%AC%A6%E4%B8%B2%E7%9A%84%E5%AD%90%E4%B8%B2%E4%B8%AD%E4%BB%8E%E5%8E%9F%E4%B8%B2%E6%9C%80%E5%89%8D%E9%9D%A2%E5%BC%80%E5%A7%8B%E7%9A%84%E5%AD%90%E4%B8%B2%EF%BC%8C%E5%A6%82abcdef%E7%9A%84%E5%89%8D%E7%BC%80%E6%9C%89%EF%BC%9Aa%2Cab%2Cabc%2Cabcd%2Cabcde.,%E5%90%8E%E7%BC%80%EF%BC%9A%E6%8C%87%E7%9A%84%E6%98%AF%E5%AD%97%E7%AC%A6%E4%B8%B2%E7%9A%84%E5%AD%90%E4%B8%B2%E4%B8%AD%E5%9C%A8%E5%8E%9F%E4%B8%B2%E7%BB%93%E5%B0%BE%E5%A4%84%E7%BB%93%E5%B0%BE%E7%9A%84%E5%AD%90%E4%B8%B2%EF%BC%8C%E5%A6%82abcdef%E7%9A%84%E5%90%8E%E7%BC%80%E6%9C%89%EF%BC%9Af%2Cef%2Cdef%2Ccdef%2Cbcdef.%20KMP%E7%AE%97%E6%B3%95%E5%BC%95%E5%85%A5%E4%BA%86%E4%B8%80%E4%B8%AAF%E6%95%B0%E7%BB%84%EF%BC%88%E5%9C%A8%E5%BE%88%E5%A4%9A%E6%96%87%E7%AB%A0%E4%B8%AD%E4%BC%9A%E7%A7%B0%E4%B8%BAnext%2C%E4%BD%86%E7%AC%94%E8%80%85%E6%9B%B4%E4%B9%A0%E6%83%AF%E7%94%A8F%EF%BC%8C%E8%BF%99%E6%9B%B4%E6%96%B9%E4%BE%BF%E8%A1%A8%E8%BE%BE%EF%BC%89%EF%BC%8CF%5Bi%5D%E8%A1%A8%E7%A4%BA%E7%9A%84%E6%98%AF%E5%89%8Di%E7%9A%84%E5%AD%97%E7%AC%A6%E7%BB%84%E6%88%90%E7%9A%84%E8%BF%99%E4%B8%AA%E5%AD%90%E4%B8%B2%E6%9C%80%E9%95%BF%E7%9A%84%E7%9B%B8%E5%90%8C%E5%89%8D%E7%BC%80%E5%90%8E%E7%BC%80%E7%9A%84%E9%95%BF%E5%BA%A6%EF%BC%81.\n",
    "前缀函数是增量函数，故可以一边读入字符串一边求解当前读入位的前缀函数，实际上这里要注意的就是j角标即作为匹配字符串的角标，又作为前缀函数的值，它会在两个数组中来回跳跃，前缀函数中的值表示当前这个子串中的最大前缀的长度，要判断needle中的i字符是否可以接在j角标表示的needle后面作为前缀时，只需要取出j角标后面的一个字符进行判断即可。首先找出前缀中可以插入的位置角标，即当needle[i] != needle[j+1]同时当前子串还有前缀子串可以跳跃时（即前缀函数j>=0）j继续往前走，j=F[j]，否则要么是跳到最前面了没得跳了，或者是找到了可以插入的位置了，即当前needle角标i和目前的needle角标j有共同前缀，有可能可以在j后面接一个字符以增加最大前缀长度（还没有跳到最前面）。当跳到了最前面时，即没有前缀可跳跃了(j<0，其实这时j=-1),则F[i]=-1(其实也就是F[i]=j), 或者若j>=0没有跳到最前面，还有相等前缀时needel[i]= needle[j+1]，则可以在j后面接上i作为此时的最大长度，跳出循环并F[i]=j+1，F[i]=j+1.不等则j还得继续往前跳跃直到退出循环。"
   ]
  },
  {
   "cell_type": "code",
   "execution_count": 170,
   "metadata": {},
   "outputs": [],
   "source": [
    "for i in range(len(needle)):\n",
    "    j = F[i-1]\n",
    "    while(needle[i] != needle[j+1] and j>= 0):  \n",
    "        # 先找一下needle[i]看是否可以接在前面j子串的后面，\n",
    "        # 如果可以则找出具体的接入位置并退出循环（判断条件会退出，此时needl[i]=needle[j+1]）,\n",
    "        # 否则j就一直往前跳跃，直到没有了前缀位置退出循环\n",
    "        j = F[j]  # j 往前跳跃\n",
    "    if needle[i] == needle[j+1]:  # 如果是找到了接入位置，则此时判断为True，接入\n",
    "        F[i] = j+1  \n",
    "        # 在当前的j值上加1即可，j即使索引角标又是当前子串的最大前后缀长度\n",
    "    else:\n",
    "        F[i] = -1  # ro F[i] = j \n",
    "        # 否则，没有找到共同的前缀，即j跳到了最前面，此时直接给F[i]置-1即可，\n",
    "        # 或者F[i]=j,因为此时j就等于-1\n",
    "        "
   ]
  },
  {
   "cell_type": "code",
   "execution_count": 175,
   "metadata": {},
   "outputs": [],
   "source": [
    "haystack = \"abcdef\"\n",
    "needle = \"abc\""
   ]
  },
  {
   "cell_type": "code",
   "execution_count": 176,
   "metadata": {},
   "outputs": [
    {
     "ename": "TypeError",
     "evalue": "string indices must be integers",
     "output_type": "error",
     "traceback": [
      "\u001b[0;31m---------------------------------------------------------------------------\u001b[0m",
      "\u001b[0;31mTypeError\u001b[0m                                 Traceback (most recent call last)",
      "\u001b[0;32m<ipython-input-176-44a7f3952096>\u001b[0m in \u001b[0;36m<module>\u001b[0;34m\u001b[0m\n\u001b[1;32m      2\u001b[0m \u001b[0mi\u001b[0m \u001b[0;34m=\u001b[0m \u001b[0;36m0\u001b[0m\u001b[0;34m\u001b[0m\u001b[0;34m\u001b[0m\u001b[0m\n\u001b[1;32m      3\u001b[0m \u001b[0;32mwhile\u001b[0m \u001b[0mi\u001b[0m \u001b[0;34m<\u001b[0m \u001b[0mlen\u001b[0m\u001b[0;34m(\u001b[0m\u001b[0mhaystack\u001b[0m\u001b[0;34m)\u001b[0m\u001b[0;34m:\u001b[0m\u001b[0;34m\u001b[0m\u001b[0;34m\u001b[0m\u001b[0m\n\u001b[0;32m----> 4\u001b[0;31m     \u001b[0;32mif\u001b[0m \u001b[0mhaystack\u001b[0m\u001b[0;34m[\u001b[0m\u001b[0mi\u001b[0m\u001b[0;34m]\u001b[0m \u001b[0;34m==\u001b[0m \u001b[0mneedle\u001b[0m\u001b[0;34m[\u001b[0m\u001b[0mj\u001b[0m\u001b[0;34m]\u001b[0m\u001b[0;34m:\u001b[0m\u001b[0;34m\u001b[0m\u001b[0;34m\u001b[0m\u001b[0m\n\u001b[0m\u001b[1;32m      5\u001b[0m         \u001b[0mi\u001b[0m \u001b[0;34m+=\u001b[0m \u001b[0;36m1\u001b[0m\u001b[0;34m\u001b[0m\u001b[0;34m\u001b[0m\u001b[0m\n\u001b[1;32m      6\u001b[0m         \u001b[0mj\u001b[0m \u001b[0;34m+=\u001b[0m \u001b[0;36m1\u001b[0m\u001b[0;34m\u001b[0m\u001b[0;34m\u001b[0m\u001b[0m\n",
      "\u001b[0;31mTypeError\u001b[0m: string indices must be integers"
     ]
    }
   ],
   "source": [
    "# 模式匹配\n",
    "i = 0\n",
    "while i < len(haystack):\n",
    "    if haystack[i] == needle[j]:\n",
    "        i += 1\n",
    "        j += 1\n",
    "        if j == len(needle):\n",
    "            print(i-len(needle))\n",
    "            j = F[j-1] + 1\n",
    "    else:\n",
    "        if j == 0:\n",
    "            # 如果j就是needle的第一个，即taystack[i]!=needle[0],那么i往后走就是，j不需要往前跳\n",
    "            # 其实这里应该判断，因为如果不判断j-1=0-1=-1，F会越界\n",
    "            i += 1\n",
    "        j = F[j-1]+1  # 不相等同时j还有前缀可跳跃时，则j往前跳跃，"
   ]
  },
  {
   "cell_type": "code",
   "execution_count": null,
   "metadata": {},
   "outputs": [],
   "source": []
  },
  {
   "cell_type": "code",
   "execution_count": null,
   "metadata": {},
   "outputs": [],
   "source": []
  },
  {
   "cell_type": "code",
   "execution_count": null,
   "metadata": {},
   "outputs": [],
   "source": []
  },
  {
   "cell_type": "code",
   "execution_count": null,
   "metadata": {},
   "outputs": [],
   "source": []
  }
 ],
 "metadata": {
  "kernelspec": {
   "display_name": "Python 3",
   "language": "python",
   "name": "python3"
  },
  "language_info": {
   "codemirror_mode": {
    "name": "ipython",
    "version": 3
   },
   "file_extension": ".py",
   "mimetype": "text/x-python",
   "name": "python",
   "nbconvert_exporter": "python",
   "pygments_lexer": "ipython3",
   "version": "3.7.3"
  }
 },
 "nbformat": 4,
 "nbformat_minor": 2
}
